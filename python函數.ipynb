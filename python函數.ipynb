{
  "nbformat": 4,
  "nbformat_minor": 0,
  "metadata": {
    "colab": {
      "name": "python函數.ipynb",
      "provenance": [],
      "authorship_tag": "ABX9TyMwk0CnlzItWPfZJ7Lq2dq3",
      "include_colab_link": true
    },
    "kernelspec": {
      "name": "python3",
      "display_name": "Python 3"
    }
  },
  "cells": [
    {
      "cell_type": "markdown",
      "metadata": {
        "id": "view-in-github",
        "colab_type": "text"
      },
      "source": [
        "<a href=\"https://colab.research.google.com/github/Ruby-Dog/python2020/blob/main/python%E5%87%BD%E6%95%B8.ipynb\" target=\"_parent\"><img src=\"https://colab.research.google.com/assets/colab-badge.svg\" alt=\"Open In Colab\"/></a>"
      ]
    },
    {
      "cell_type": "markdown",
      "metadata": {
        "id": "HQG7erIzNb6A"
      },
      "source": [
        "# None是有用的\n",
        "```\n",
        "None 是一種特殊的Python值,在無話可說時使用,\n",
        "他與布林值False不一樣\n",
        "（雖然當它被當成布林值估值時,會被視為false\n",
        "```"
      ]
    },
    {
      "cell_type": "code",
      "metadata": {
        "id": "seE1ZAw6NWKG"
      },
      "source": [
        "thing = None\n",
        "if thing:\n",
        "  print(\"ok\")\n",
        "else:\n",
        "  print(\"no\")"
      ],
      "execution_count": null,
      "outputs": []
    },
    {
      "cell_type": "markdown",
      "metadata": {
        "id": "VRN38HIuPIov"
      },
      "source": [
        "#### 可使用python的is運算子來區分\bNone與布林值False"
      ]
    },
    {
      "cell_type": "code",
      "metadata": {
        "colab": {
          "base_uri": "https://localhost:8080/"
        },
        "id": "sLYbny6VPHF3",
        "outputId": "d602e767-ba1b-4613-ba0f-7d3dd24be66f"
      },
      "source": [
        "thing = None\n",
        "if thing is None:\n",
        "  print(\"It is nothing\")\n",
        "else:\n",
        "  print(\"It is something\")"
      ],
      "execution_count": 1,
      "outputs": [
        {
          "output_type": "stream",
          "text": [
            "It is nothing\n"
          ],
          "name": "stdout"
        }
      ]
    },
    {
      "cell_type": "markdown",
      "metadata": {
        "id": "yTHPgI0AQP6R"
      },
      "source": [
        "# 位置性引數"
      ]
    },
    {
      "cell_type": "code",
      "metadata": {
        "colab": {
          "base_uri": "https://localhost:8080/"
        },
        "id": "xRzBc8-wP3-z",
        "outputId": "5cb30b99-fbe7-4286-9335-684309e0c02c"
      },
      "source": [
        "#此函式使用他的位置引數建立一個字典,並回傳他：\n",
        "\n",
        "def menu(wine,entree,dessert):\n",
        "  return{'wine':wine,'entree':entree,'dessert':dessert}\n",
        "\n",
        "\n",
        "\n",
        "menu(\"紅酒\",\"牛排\",\"蛋糕\")  "
      ],
      "execution_count": 2,
      "outputs": [
        {
          "output_type": "execute_result",
          "data": {
            "text/plain": [
              "{'dessert': '蛋糕', 'entree': '牛排', 'wine': '紅酒'}"
            ]
          },
          "metadata": {
            "tags": []
          },
          "execution_count": 2
        }
      ]
    },
    {
      "cell_type": "markdown",
      "metadata": {
        "id": "8pF7c-ACRkFl"
      },
      "source": [
        "# 關鍵字引數"
      ]
    },
    {
      "cell_type": "code",
      "metadata": {
        "colab": {
          "base_uri": "https://localhost:8080/"
        },
        "id": "RvuEX4rQRo3Y",
        "outputId": "f04254b1-698c-42ff-a050-3c00c259ce87"
      },
      "source": [
        "menu(entree='羊肉',dessert='冰淇淋',wine='白葡萄酒')"
      ],
      "execution_count": 3,
      "outputs": [
        {
          "output_type": "execute_result",
          "data": {
            "text/plain": [
              "{'dessert': '冰淇淋', 'entree': '羊肉', 'wine': '白葡萄酒'}"
            ]
          },
          "metadata": {
            "tags": []
          },
          "execution_count": 3
        }
      ]
    },
    {
      "cell_type": "markdown",
      "metadata": {
        "id": "ka_G_GR6SCMc"
      },
      "source": [
        "可以混合使用位置與關鍵字引數\n"
      ]
    },
    {
      "cell_type": "code",
      "metadata": {
        "colab": {
          "base_uri": "https://localhost:8080/"
        },
        "id": "y5Q99YrrSMRK",
        "outputId": "763aa27f-4701-4638-eea9-722014cc81dc"
      },
      "source": [
        "menu('米酒',dessert='蛋捲',entree='義大利麵')"
      ],
      "execution_count": 4,
      "outputs": [
        {
          "output_type": "execute_result",
          "data": {
            "text/plain": [
              "{'dessert': '蛋捲', 'entree': '義大利麵', 'wine': '米酒'}"
            ]
          },
          "metadata": {
            "tags": []
          },
          "execution_count": 4
        }
      ]
    },
    {
      "cell_type": "markdown",
      "metadata": {
        "id": "iqvzPQmFSd1H"
      },
      "source": [
        "**如果同時使用位置與關鍵字引數來呼叫函式, 必須將位置引數放在前面** "
      ]
    },
    {
      "cell_type": "code",
      "metadata": {
        "colab": {
          "base_uri": "https://localhost:8080/",
          "height": 151
        },
        "id": "uWTHKPwWS8k8",
        "outputId": "90bbaa21-0b94-407a-e9a7-21f1e8429a08"
      },
      "source": [
        "#錯誤示範： \n",
        "menu(dessert='蛋捲',entree='義大利麵','米酒',)"
      ],
      "execution_count": 5,
      "outputs": [
        {
          "output_type": "error",
          "ename": "SyntaxError",
          "evalue": "ignored",
          "traceback": [
            "\u001b[0;36m  File \u001b[0;32m\"<ipython-input-5-ca3b7eecf152>\"\u001b[0;36m, line \u001b[0;32m1\u001b[0m\n\u001b[0;31m    menu(dessert='蛋捲',entree='義大利麵','米酒',)\u001b[0m\n\u001b[0m                                          \n^\u001b[0m\n\u001b[0;31mSyntaxError\u001b[0m\u001b[0;31m:\u001b[0m positional argument follows keyword argument\n"
          ]
        }
      ]
    },
    {
      "cell_type": "markdown",
      "metadata": {
        "id": "h8ixCjFbV0hd"
      },
      "source": [
        "# 指定預設參數值"
      ]
    },
    {
      "cell_type": "code",
      "metadata": {
        "id": "kAremAaHV7UQ"
      },
      "source": [
        "def menu(wine,entree,dessert='布丁'):\n",
        "    return {'wine':wine,'entree':entree,'dessert':dessert}"
      ],
      "execution_count": 17,
      "outputs": []
    },
    {
      "cell_type": "code",
      "metadata": {
        "colab": {
          "base_uri": "https://localhost:8080/"
        },
        "id": "_LqwLDkZWnG2",
        "outputId": "fb0b20a2-4754-4c04-dbab-17b31df95ee7"
      },
      "source": [
        "menu('紅酒','雞腿')"
      ],
      "execution_count": 18,
      "outputs": [
        {
          "output_type": "execute_result",
          "data": {
            "text/plain": [
              "{'dessert': '布丁', 'entree': '雞腿', 'wine': '紅酒'}"
            ]
          },
          "metadata": {
            "tags": []
          },
          "execution_count": 18
        }
      ]
    },
    {
      "cell_type": "code",
      "metadata": {
        "colab": {
          "base_uri": "https://localhost:8080/"
        },
        "id": "jKWDAytyXz7-",
        "outputId": "32ee198b-9a49-4c2d-ca6d-dd0c7a3902fa"
      },
      "source": [
        "menu('紅酒','雞腿','蛋糕')"
      ],
      "execution_count": 19,
      "outputs": [
        {
          "output_type": "execute_result",
          "data": {
            "text/plain": [
              "{'dessert': '蛋糕', 'entree': '雞腿', 'wine': '紅酒'}"
            ]
          },
          "metadata": {
            "tags": []
          },
          "execution_count": 19
        }
      ]
    },
    {
      "cell_type": "markdown",
      "metadata": {
        "id": "y0xKPEWGYBD_"
      },
      "source": [
        "###python工作面試題：  \n",
        "####**預設的參數值是在函式被“定義”時計算的,不是在執行的時候**   \n",
        "\n",
        "**常犯錯誤：將可變的資料型態（如串列 字典）當成預設參數來使用 **"
      ]
    },
    {
      "cell_type": "code",
      "metadata": {
        "colab": {
          "base_uri": "https://localhost:8080/"
        },
        "id": "psokCIYFYmIQ",
        "outputId": "5a0d6f99-d5e8-4bc6-ec5f-5f1efa9fdec2"
      },
      "source": [
        "#bug:串列只有在第一次被呼叫是空的,第二次呼叫時,result依然有一個上次呼叫時留下的項目：\n",
        "\n",
        "def buggy(arg,result=[]):\n",
        "  result.append(arg)\n",
        "  print(result)\n",
        "\n",
        "\n",
        "buggy('a')  \n",
        "\n",
        "buggy('b')  #預期是['b']"
      ],
      "execution_count": 22,
      "outputs": [
        {
          "output_type": "stream",
          "text": [
            "['a']\n",
            "['a', 'b']\n"
          ],
          "name": "stdout"
        }
      ]
    },
    {
      "cell_type": "code",
      "metadata": {
        "colab": {
          "base_uri": "https://localhost:8080/"
        },
        "id": "JUnp-s2RZVa-",
        "outputId": "c09f6f21-49a5-454a-8a75-6b0b84da5512"
      },
      "source": [
        "#這樣寫可以正常運作：\n",
        "def works(arg):\n",
        "  result=[]\n",
        "  result.append(arg)\n",
        "  print(result)\n",
        "\n",
        "\n",
        "\n",
        "works('a')\n",
        "\n",
        "works('b')"
      ],
      "execution_count": 23,
      "outputs": [
        {
          "output_type": "stream",
          "text": [
            "['a']\n",
            "['b']\n"
          ],
          "name": "stdout"
        }
      ]
    },
    {
      "cell_type": "code",
      "metadata": {
        "colab": {
          "base_uri": "https://localhost:8080/"
        },
        "id": "CxQy-8WpZa8B",
        "outputId": "03c7862d-183a-4dad-dffa-cdf74522514e"
      },
      "source": [
        "#修正的做法是傳入別的東西來代表第一次呼叫：\n",
        "def nonbuggy(arg,result=None:\n",
        "  if result is None:\n",
        "    result=[]\n",
        "  result.append(arg)\n",
        "  print(result)\n",
        "\n",
        "\n",
        "\n",
        "nonbuggy('a')\n",
        "\n",
        "\n",
        "nonbuggy('b')"
      ],
      "execution_count": 26,
      "outputs": [
        {
          "output_type": "stream",
          "text": [
            "['a']\n",
            "['b']\n"
          ],
          "name": "stdout"
        }
      ]
    },
    {
      "cell_type": "markdown",
      "metadata": {
        "id": "Oyltxa3IbVuF"
      },
      "source": [
        "**python沒有指標**"
      ]
    },
    {
      "cell_type": "markdown",
      "metadata": {
        "id": "5l7OHbyMbcHL"
      },
      "source": [
        "#用*來炸開/收集位置引數\n",
        "```\n",
        "在函式參數裡面的星號可以將數量不一定的位置引數組成一個參數值tuple\n",
        "```"
      ]
    },
    {
      "cell_type": "code",
      "metadata": {
        "id": "GQ7gseNMbaiM"
      },
      "source": [
        "#在下列例子中,args是個參數tuple,他是以傳給print_atgs()函式的零個以上引數所產生的：\n",
        "\n",
        "def print_args(*args):\n",
        "  print('Positional tuple',args) "
      ],
      "execution_count": 34,
      "outputs": []
    },
    {
      "cell_type": "code",
      "metadata": {
        "colab": {
          "base_uri": "https://localhost:8080/"
        },
        "id": "seuogeHFcXVV",
        "outputId": "aca2bdcd-27c1-4ae7-9f63-b129314c3e83"
      },
      "source": [
        "#當你呼叫這個函式且不傳入引數時,*args不會提供任何東西：\n",
        "\n",
        "print_args()"
      ],
      "execution_count": 35,
      "outputs": [
        {
          "output_type": "stream",
          "text": [
            "Positional tuple ()\n"
          ],
          "name": "stdout"
        }
      ]
    },
    {
      "cell_type": "code",
      "metadata": {
        "colab": {
          "base_uri": "https://localhost:8080/"
        },
        "id": "RafISOHQc3uX",
        "outputId": "26fc7d07-6ae7-4bab-e5c1-26a4ed62b3c6"
      },
      "source": [
        "#你傳給他的任何東西都會以args tuple印出：\n",
        "print_args(3,2,1,'happy','ok...')"
      ],
      "execution_count": 36,
      "outputs": [
        {
          "output_type": "stream",
          "text": [
            "Positional tuple (3, 2, 1, 'happy', 'ok...')\n"
          ],
          "name": "stdout"
        }
      ]
    },
    {
      "cell_type": "markdown",
      "metadata": {
        "id": "JBDBZsTjdhJE"
      },
      "source": [
        "```\n",
        "他很適合用來編寫print()等引數的數量不一定的函式\n",
        "```\n",
        "###如果函式需要位置引數,要將它們放在前面,將*args放在最後面,讓它可以抓取所有其餘的引數 "
      ]
    },
    {
      "cell_type": "code",
      "metadata": {
        "colab": {
          "base_uri": "https://localhost:8080/"
        },
        "id": "uB_wy3rwdU9R",
        "outputId": "0ffec104-7b7f-4a45-f967-86107c3c6597"
      },
      "source": [
        "#如果函式需要位置引數,要將它們放在前面,將*args放在最後面,讓它可以抓取所有其餘的引數:\n",
        "\n",
        "def print_more(r1,r2,*args):\n",
        "  print('need this one：',r1)\n",
        "  print('need this two：',r2)\n",
        "  print('all the rest：',args)\n",
        "\n",
        "\n",
        "\n",
        "print_more('cap','gloves','褲子','電腦','滑鼠','鍵盤')  "
      ],
      "execution_count": 40,
      "outputs": [
        {
          "output_type": "stream",
          "text": [
            "need this one： cap\n",
            "need this two： gloves\n",
            "all the rest： ('褲子', '電腦', '滑鼠', '鍵盤')\n"
          ],
          "name": "stdout"
        }
      ]
    },
    {
      "cell_type": "markdown",
      "metadata": {
        "id": "eKU4KYgWe7XH"
      },
      "source": [
        "```\n",
        "使用*時,不一定要將tuple引數稱為*args\n",
        "這是一種習慣用法\n",
        "\n",
        "大家經常在函式內使用*args,雖然在技術上他是參數,應該稱為*params\n",
        "```"
      ]
    }
  ]
}