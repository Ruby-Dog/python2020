{
  "nbformat": 4,
  "nbformat_minor": 0,
  "metadata": {
    "colab": {
      "name": "python取得網頁資料.ipynb",
      "provenance": [],
      "authorship_tag": "ABX9TyO31DisdKhUl3CmbThS8q+0",
      "include_colab_link": true
    },
    "kernelspec": {
      "name": "python3",
      "display_name": "Python 3"
    }
  },
  "cells": [
    {
      "cell_type": "markdown",
      "metadata": {
        "id": "view-in-github",
        "colab_type": "text"
      },
      "source": [
        "<a href=\"https://colab.research.google.com/github/Ruby-Dog/python2020/blob/main/python%E5%8F%96%E5%BE%97%E7%B6%B2%E9%A0%81%E8%B3%87%E6%96%99.ipynb\" target=\"_parent\"><img src=\"https://colab.research.google.com/assets/colab-badge.svg\" alt=\"Open In Colab\"/></a>"
      ]
    },
    {
      "cell_type": "code",
      "metadata": {
        "colab": {
          "base_uri": "https://localhost:8080/"
        },
        "id": "AE_ZpTxlsesX",
        "outputId": "c4e12619-c351-4e81-e020-f606cd858566"
      },
      "source": [
        "import requests\r\n",
        "\r\n",
        "r=requests.get(\"http://www.google.com\")\r\n",
        "print(r.status_code)"
      ],
      "execution_count": 2,
      "outputs": [
        {
          "output_type": "stream",
          "text": [
            "200\n"
          ],
          "name": "stdout"
        }
      ]
    },
    {
      "cell_type": "code",
      "metadata": {
        "colab": {
          "base_uri": "https://localhost:8080/"
        },
        "id": "pHk3EE39tFrv",
        "outputId": "5644898a-360f-4a5b-991d-7496913f3b73"
      },
      "source": [
        "if r.status_code == 200:\r\n",
        "  print(\"請求成功\")\r\n",
        "else:\r\n",
        "  print(\"請求失敗\")"
      ],
      "execution_count": 3,
      "outputs": [
        {
          "output_type": "stream",
          "text": [
            "請求成功\n"
          ],
          "name": "stdout"
        }
      ]
    },
    {
      "cell_type": "code",
      "metadata": {
        "colab": {
          "base_uri": "https://localhost:8080/"
        },
        "id": "bK5sh_sotbZd",
        "outputId": "f2c772e0-fb59-4f4d-b5ec-38ac816fdb50"
      },
      "source": [
        " url_params={'name':'魯魯','score':'100'}\r\n",
        " r = requests.get(\"http://httpbin.org/get\",params=url_params)\r\n",
        " print(r.url)"
      ],
      "execution_count": 5,
      "outputs": [
        {
          "output_type": "stream",
          "text": [
            "http://httpbin.org/get?name=%E9%AD%AF%E9%AD%AF&score=100\n"
          ],
          "name": "stdout"
        }
      ]
    }
  ]
}