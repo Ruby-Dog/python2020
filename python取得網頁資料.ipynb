{
  "nbformat": 4,
  "nbformat_minor": 0,
  "metadata": {
    "colab": {
      "name": "python取得網頁資料.ipynb",
      "provenance": [],
      "authorship_tag": "ABX9TyPwXjhZdPqbyEHNS9OymlvG",
      "include_colab_link": true
    },
    "kernelspec": {
      "name": "python3",
      "display_name": "Python 3"
    }
  },
  "cells": [
    {
      "cell_type": "markdown",
      "metadata": {
        "id": "view-in-github",
        "colab_type": "text"
      },
      "source": [
        "<a href=\"https://colab.research.google.com/github/Ruby-Dog/python2020/blob/main/python%E5%8F%96%E5%BE%97%E7%B6%B2%E9%A0%81%E8%B3%87%E6%96%99.ipynb\" target=\"_parent\"><img src=\"https://colab.research.google.com/assets/colab-badge.svg\" alt=\"Open In Colab\"/></a>"
      ]
    },
    {
      "cell_type": "markdown",
      "metadata": {
        "id": "zm7x9XVC5fEm"
      },
      "source": [
        "# 送出get請求"
      ]
    },
    {
      "cell_type": "code",
      "metadata": {
        "colab": {
          "base_uri": "https://localhost:8080/"
        },
        "id": "AE_ZpTxlsesX",
        "outputId": "c4e12619-c351-4e81-e020-f606cd858566"
      },
      "source": [
        "import requests\r\n",
        "\r\n",
        "r=requests.get(\"http://www.google.com\")\r\n",
        "print(r.status_code)"
      ],
      "execution_count": 2,
      "outputs": [
        {
          "output_type": "stream",
          "text": [
            "200\n"
          ],
          "name": "stdout"
        }
      ]
    },
    {
      "cell_type": "code",
      "metadata": {
        "colab": {
          "base_uri": "https://localhost:8080/"
        },
        "id": "pHk3EE39tFrv",
        "outputId": "5644898a-360f-4a5b-991d-7496913f3b73"
      },
      "source": [
        "if r.status_code == 200:\r\n",
        "  print(\"請求成功\")\r\n",
        "else:\r\n",
        "  print(\"請求失敗\")"
      ],
      "execution_count": 3,
      "outputs": [
        {
          "output_type": "stream",
          "text": [
            "請求成功\n"
          ],
          "name": "stdout"
        }
      ]
    },
    {
      "cell_type": "code",
      "metadata": {
        "colab": {
          "base_uri": "https://localhost:8080/"
        },
        "id": "bK5sh_sotbZd",
        "outputId": "f2c772e0-fb59-4f4d-b5ec-38ac816fdb50"
      },
      "source": [
        " url_params={'name':'魯魯','score':'100'}\r\n",
        " r = requests.get(\"http://httpbin.org/get\",params=url_params)\r\n",
        " print(r.url)"
      ],
      "execution_count": 5,
      "outputs": [
        {
          "output_type": "stream",
          "text": [
            "http://httpbin.org/get?name=%E9%AD%AF%E9%AD%AF&score=100\n"
          ],
          "name": "stdout"
        }
      ]
    },
    {
      "cell_type": "code",
      "metadata": {
        "colab": {
          "base_uri": "https://localhost:8080/"
        },
        "id": "YZi7FBws5cdV",
        "outputId": "9c3414d4-00db-4184-a7af-6dc51d456d3b"
      },
      "source": [
        "print(r.text)"
      ],
      "execution_count": 6,
      "outputs": [
        {
          "output_type": "stream",
          "text": [
            "{\n",
            "  \"args\": {\n",
            "    \"name\": \"\\u9b6f\\u9b6f\", \n",
            "    \"score\": \"100\"\n",
            "  }, \n",
            "  \"headers\": {\n",
            "    \"Accept\": \"*/*\", \n",
            "    \"Accept-Encoding\": \"gzip, deflate\", \n",
            "    \"Host\": \"httpbin.org\", \n",
            "    \"User-Agent\": \"python-requests/2.23.0\", \n",
            "    \"X-Amzn-Trace-Id\": \"Root=1-603468a9-462268df4a382beb43b4c4f2\"\n",
            "  }, \n",
            "  \"origin\": \"34.74.203.64\", \n",
            "  \"url\": \"http://httpbin.org/get?name=\\u9b6f\\u9b6f&score=100\"\n",
            "}\n",
            "\n"
          ],
          "name": "stdout"
        }
      ]
    },
    {
      "cell_type": "markdown",
      "metadata": {
        "id": "04C6D92Z5xFr"
      },
      "source": [
        "#送出post請求"
      ]
    },
    {
      "cell_type": "code",
      "metadata": {
        "colab": {
          "base_uri": "https://localhost:8080/"
        },
        "id": "8FqOI1QK52s6",
        "outputId": "446a6dbb-117d-4964-fab1-834abc4f846f"
      },
      "source": [
        "import requests\r\n",
        "\r\n",
        "post_data = {'name':'ruby','score':'95'}\r\n",
        "r = requests.post(\"http://httpbin.org/post\",data=post_data)\r\n",
        "print(r.text)"
      ],
      "execution_count": 8,
      "outputs": [
        {
          "output_type": "stream",
          "text": [
            "{\n",
            "  \"args\": {}, \n",
            "  \"data\": \"\", \n",
            "  \"files\": {}, \n",
            "  \"form\": {\n",
            "    \"name\": \"ruby\", \n",
            "    \"score\": \"95\"\n",
            "  }, \n",
            "  \"headers\": {\n",
            "    \"Accept\": \"*/*\", \n",
            "    \"Accept-Encoding\": \"gzip, deflate\", \n",
            "    \"Content-Length\": \"18\", \n",
            "    \"Content-Type\": \"application/x-www-form-urlencoded\", \n",
            "    \"Host\": \"httpbin.org\", \n",
            "    \"User-Agent\": \"python-requests/2.23.0\", \n",
            "    \"X-Amzn-Trace-Id\": \"Root=1-60347533-59565507788f638e03e6bdb9\"\n",
            "  }, \n",
            "  \"json\": null, \n",
            "  \"origin\": \"34.74.203.64\", \n",
            "  \"url\": \"http://httpbin.org/post\"\n",
            "}\n",
            "\n"
          ],
          "name": "stdout"
        }
      ]
    },
    {
      "cell_type": "markdown",
      "metadata": {
        "id": "5C55_hJl8Dk9"
      },
      "source": [
        "#取得HTTP回應內容"
      ]
    },
    {
      "cell_type": "code",
      "metadata": {
        "colab": {
          "base_uri": "https://localhost:8080/"
        },
        "id": "xpvs0BQR8IrL",
        "outputId": "84e8f45d-2ba1-492f-8fa1-003e63c3a5ce"
      },
      "source": [
        "import requests\r\n",
        "r = requests.get(\"https://www.google.com\")\r\n",
        "\r\n",
        "#print(r.text)\r\n",
        "print(r.encoding)\r\n",
        "\r\n",
        "print(\"----------------------\")\r\n",
        "\r\n",
        "a = requests.get(\"https://www.google.com\")\r\n",
        "r.encoding='big5'\r\n",
        "#rint(r.text)\r\n",
        "print(r.encoding)"
      ],
      "execution_count": 78,
      "outputs": [
        {
          "output_type": "stream",
          "text": [
            "ISO-8859-1\n",
            "----------------------\n",
            "big5\n"
          ],
          "name": "stdout"
        }
      ]
    },
    {
      "cell_type": "code",
      "metadata": {
        "colab": {
          "base_uri": "https://localhost:8080/"
        },
        "id": "Z0Ey3YgO_1_k",
        "outputId": "a0ef808c-e0cf-4988-a057-0264f6a5559e"
      },
      "source": [
        "r = requests.get(\"http://www.google.com\")\r\n",
        "##print(r.text)\r\n",
        "print(\"---------------\")\r\n",
        "\r\n",
        "r = requests.get(\"http://www.google.com\")\r\n",
        "print(r.content)\r\n",
        "print(\"---------------\")\r\n",
        "\r\n",
        "r = requests.get(\"http://www.google.com\")\r\n",
        "#print(r.raw)\r\n",
        "print(r.raw.read(155))   # 取前15位元組"
      ],
      "execution_count": 94,
      "outputs": [
        {
          "output_type": "stream",
          "text": [
            "---------------\n",
            "b'<!doctype html><html itemscope=\"\" itemtype=\"http://schema.org/WebPage\" lang=\"en\"><head><meta content=\"Search the world\\'s information, including webpages, images, videos and more. Google has many special features to help you find exactly what you\\'re looking for.\" name=\"description\"><meta content=\"noodp\" name=\"robots\"><meta content=\"text/html; charset=UTF-8\" http-equiv=\"Content-Type\"><meta content=\"/images/branding/googleg/1x/googleg_standard_color_128dp.png\" itemprop=\"image\"><title>Google</title><script nonce=\"sFUraR0670bo7gj3DyGNuw==\">(function(){window.google={kEI:\\'ZY80YOOmNISQ5wK_vbaYDQ\\',kEXPI:\\'0,1302433,7,56969,954,755,4350,206,4804,925,1391,383,246,5,1354,4920,16,315,2341,1120174,1232,1196478,573,328984,51224,16108,19403,9287,9188,8384,4858,1362,283,9007,2780,244,4744,12841,4020,978,13124,103,2055,920,873,3599,593,6430,1142,13386,234,4282,2778,919,2277,8,570,2226,887,706,1279,2212,239,291,149,1103,841,516,1466,56,158,4100,109,203,1135,1,3,2669,2023,2297,4176,93,329,1285,2941,5846,3227,2845,7,5599,6755,5096,7877,4928,108,1483,1924,908,2,941,2614,2397,7470,1,2842,432,3,1546,44,1,820,1,4624,148,5990,5333,966,1686,4,498,1030,2304,1236,1145,4658,74,1717,266,2626,460,1555,4067,1036,4598,1426,374,1798,2026,1297,1753,2658,4243,518,912,564,1120,30,2283,424,1146,1958,17,2301,3285,2214,2305,638,37,1457,605,2,1483,3177,319,2361,55,7349,28,11,731,665,323,1822,3682,54,2476,479,142,369,1057,906,778,363,17,50,99,2090,883,5,908,3,163,1161,2217,1,645,6,391,2,4305,668,982,3446,893,115,810,1,1657,789,1,1186,380,2,245,38,245,38,662,211,61,2394,980,1940,147,451,24,1256,238,448,508,2,60,1014,1118,1779,327,432,699,2824,46,77,139,1113,230,32,180,2,77,261,488,512,56,581,175,121,538,110,8,1,26,364,162,140,1,3,38,1,537,1338,230,26,1312,1868,553,262,9,427,87,135,599,188,345,2667,883,1381,686,4,28,47,31,733,2,5689135,1874,1996,35,63,8797948,549,333,444,1,2,80,1,900,896,1,9,2,2551,1,748,141,795,563,1,4265,1,1,2,1331,3299,248,595,1,2608,155,17,13,72,148,14,12,94,5,23957122,1883493,899847,1226934,268,730,2,148,2,772\\',kBL:\\'B3PO\\'};google.sn=\\'webhp\\';google.kHL=\\'en\\';})();(function(){\\nvar f=[];google.getEI=function(a){for(var b;a&&(!a.getAttribute||!(b=a.getAttribute(\"eid\")));)a=a.parentNode;return b||google.kEI};google.getLEI=function(a){for(var b=null;a&&(!a.getAttribute||!(b=a.getAttribute(\"leid\")));)a=a.parentNode;return b};google.ml=function(){return null};google.log=function(a,b,c,d,g){if(c=google.logUrl(a,b,c,d,g)){a=new Image;var e=f.length;f[e]=a;a.onerror=a.onload=a.onabort=function(){delete f[e]};a.src=c}};google.logUrl=function(a,b,c,d,g){var e=\"\";c||-1!=b.search(\"&ei=\")||(e=\"&ei=\"+google.getEI(d),-1==b.search(\"&lei=\")&&(d=google.getLEI(d))&&(e+=\"&lei=\"+d));d=\"\";!c&&window._cshid&&-1==b.search(\"&cshid=\")&&\"slh\"!=a&&(d=\"&cshid=\"+window._cshid);c=c||\"/\"+(g||\"gen_204\")+\"?atyp=i&ct=\"+a+\"&cad=\"+b+e+\"&zx=\"+Date.now()+d;/^http:/i.test(c)&&\"https:\"==window.location.protocol&&(google.ml(Error(\"a\"),!1,{src:c,glmm:1}),c=\"\");return c};}).call(this);(function(){google.y={};google.x=function(a,b){if(a)var c=a.id;else{do c=Math.random();while(google.y[c])}google.y[c]=[a,b];return!1};google.lm=[];google.plm=function(a){google.lm.push.apply(google.lm,a)};google.lq=[];google.load=function(a,b,c){google.lq.push([[a],b,c])};google.loadAll=function(a,b){google.lq.push([a,b])};google.bx=!1;google.lx=function(){};}).call(this);google.f={};(function(){\\ndocument.documentElement.addEventListener(\"submit\",function(b){var a;if(a=b.target){var c=a.getAttribute(\"data-submitfalse\");a=\"1\"==c||\"q\"==c&&!a.elements.q.value?!0:!1}else a=!1;a&&(b.preventDefault(),b.stopPropagation())},!0);document.documentElement.addEventListener(\"click\",function(b){var a;a:{for(a=b.target;a&&a!=document.documentElement;a=a.parentElement)if(\"A\"==a.tagName){a=\"1\"==a.getAttribute(\"data-nohref\");break a}a=!1}a&&b.preventDefault()},!0);}).call(this);\\nvar a=window.location,b=a.href.indexOf(\"#\");if(0<=b){var c=a.href.substring(b+1);/(^|&)q=/.test(c)&&-1==c.indexOf(\"#\")&&a.replace(\"/search?\"+c.replace(/(^|&)fp=[^&]*/g,\"\")+\"&cad=h\")};</script><style>#gbar,#guser{font-size:13px;padding-top:1px !important;}#gbar{height:22px}#guser{padding-bottom:7px !important;text-align:right}.gbh,.gbd{border-top:1px solid #c9d7f1;font-size:1px}.gbh{height:0;position:absolute;top:24px;width:100%}@media all{.gb1{height:22px;margin-right:.5em;vertical-align:top}#gbar{float:left}}a.gb1,a.gb4{text-decoration:underline !important}a.gb1,a.gb4{color:#00c !important}.gbi .gb4{color:#dd8e27 !important}.gbf .gb4{color:#900 !important}\\n</style><style>body,td,a,p,.h{font-family:arial,sans-serif}body{margin:0;overflow-y:scroll}#gog{padding:3px 8px 0}td{line-height:.8em}.gac_m td{line-height:17px}form{margin-bottom:20px}.h{color:#1558d6}em{font-weight:bold;font-style:normal}.lst{height:25px;width:496px}.gsfi,.lst{font:18px arial,sans-serif}.gsfs{font:17px arial,sans-serif}.ds{display:inline-box;display:inline-block;margin:3px 0 4px;margin-left:4px}input{font-family:inherit}body{background:#fff;color:#000}a{color:#4b11a8;text-decoration:none}a:hover,a:active{text-decoration:underline}.fl a{color:#1558d6}a:visited{color:#4b11a8}.sblc{padding-top:5px}.sblc a{display:block;margin:2px 0;margin-left:13px;font-size:11px}.lsbb{background:#f8f9fa;border:solid 1px;border-color:#dadce0 #70757a #70757a #dadce0;height:30px}.lsbb{display:block}#WqQANb a{display:inline-block;margin:0 12px}.lsb{background:url(/images/nav_logo229.png) 0 -261px repeat-x;border:none;color:#000;cursor:pointer;height:30px;margin:0;outline:0;font:15px arial,sans-serif;vertical-align:top}.lsb:active{background:#dadce0}.lst:focus{outline:none}</style><script nonce=\"sFUraR0670bo7gj3DyGNuw==\"></script></head><body bgcolor=\"#fff\"><script nonce=\"sFUraR0670bo7gj3DyGNuw==\">(function(){var src=\\'/images/nav_logo229.png\\';var iesg=false;document.body.onload = function(){window.n && window.n();if (document.images){new Image().src=src;}\\nif (!iesg){document.f&&document.f.q.focus();document.gbqf&&document.gbqf.q.focus();}\\n}\\n})();</script><div id=\"mngb\"><div id=gbar><nobr><b class=gb1>Search</b> <a class=gb1 href=\"http://www.google.com/imghp?hl=en&tab=wi\">Images</a> <a class=gb1 href=\"http://maps.google.com/maps?hl=en&tab=wl\">Maps</a> <a class=gb1 href=\"https://play.google.com/?hl=en&tab=w8\">Play</a> <a class=gb1 href=\"http://www.youtube.com/?gl=US&tab=w1\">YouTube</a> <a class=gb1 href=\"https://news.google.com/?tab=wn\">News</a> <a class=gb1 href=\"https://mail.google.com/mail/?tab=wm\">Gmail</a> <a class=gb1 href=\"https://drive.google.com/?tab=wo\">Drive</a> <a class=gb1 style=\"text-decoration:none\" href=\"https://www.google.com/intl/en/about/products?tab=wh\"><u>More</u> &raquo;</a></nobr></div><div id=guser width=100%><nobr><span id=gbn class=gbi></span><span id=gbf class=gbf></span><span id=gbe></span><a href=\"http://www.google.com/history/optout?hl=en\" class=gb4>Web History</a> | <a  href=\"/preferences?hl=en\" class=gb4>Settings</a> | <a target=_top id=gb_70 href=\"https://accounts.google.com/ServiceLogin?hl=en&passive=true&continue=http://www.google.com/&ec=GAZAAQ\" class=gb4>Sign in</a></nobr></div><div class=gbh style=left:0></div><div class=gbh style=right:0></div></div><center><br clear=\"all\" id=\"lgpd\"><div id=\"lga\"><img alt=\"Google\" height=\"92\" src=\"/images/branding/googlelogo/1x/googlelogo_white_background_color_272x92dp.png\" style=\"padding:28px 0 14px\" width=\"272\" id=\"hplogo\"><br><br></div><form action=\"/search\" name=\"f\"><table cellpadding=\"0\" cellspacing=\"0\"><tr valign=\"top\"><td width=\"25%\">&nbsp;</td><td align=\"center\" nowrap=\"\"><input name=\"ie\" value=\"ISO-8859-1\" type=\"hidden\"><input value=\"en\" name=\"hl\" type=\"hidden\"><input name=\"source\" type=\"hidden\" value=\"hp\"><input name=\"biw\" type=\"hidden\"><input name=\"bih\" type=\"hidden\"><div class=\"ds\" style=\"height:32px;margin:4px 0\"><input class=\"lst\" style=\"margin:0;padding:5px 8px 0 6px;vertical-align:top;color:#000\" autocomplete=\"off\" value=\"\" title=\"Google Search\" maxlength=\"2048\" name=\"q\" size=\"57\"></div><br style=\"line-height:0\"><span class=\"ds\"><span class=\"lsbb\"><input class=\"lsb\" value=\"Google Search\" name=\"btnG\" type=\"submit\"></span></span><span class=\"ds\"><span class=\"lsbb\"><input class=\"lsb\" id=\"tsuid1\" value=\"I\\'m Feeling Lucky\" name=\"btnI\" type=\"submit\"><script nonce=\"sFUraR0670bo7gj3DyGNuw==\">(function(){var id=\\'tsuid1\\';document.getElementById(id).onclick = function(){if (this.form.q.value){this.checked = 1;if (this.form.iflsig)this.form.iflsig.disabled = false;}\\nelse top.location=\\'/doodles/\\';};})();</script><input value=\"AINFCbYAAAAAYDSddXaHtFSrKzX8Gi_4yy0FfoABXZ6W\" name=\"iflsig\" type=\"hidden\"></span></span></td><td class=\"fl sblc\" align=\"left\" nowrap=\"\" width=\"25%\"><a href=\"/advanced_search?hl=en&amp;authuser=0\">Advanced search</a></td></tr></table><input id=\"gbv\" name=\"gbv\" type=\"hidden\" value=\"1\"><script nonce=\"sFUraR0670bo7gj3DyGNuw==\">(function(){var a,b=\"1\";if(document&&document.getElementById)if(\"undefined\"!=typeof XMLHttpRequest)b=\"2\";else if(\"undefined\"!=typeof ActiveXObject){var c,d,e=[\"MSXML2.XMLHTTP.6.0\",\"MSXML2.XMLHTTP.3.0\",\"MSXML2.XMLHTTP\",\"Microsoft.XMLHTTP\"];for(c=0;d=e[c++];)try{new ActiveXObject(d),b=\"2\"}catch(h){}}a=b;if(\"2\"==a&&-1==location.search.indexOf(\"&gbv=2\")){var f=google.gbvu,g=document.getElementById(\"gbv\");g&&(g.value=a);f&&window.setTimeout(function(){location.href=f},0)};}).call(this);</script></form><div id=\"gac_scont\"></div><div style=\"font-size:83%;min-height:3.5em\"><br></div><span id=\"footer\"><div style=\"font-size:10pt\"><div style=\"margin:19px auto;text-align:center\" id=\"WqQANb\"><a href=\"/intl/en/ads/\">Advertising\\xa0Programs</a><a href=\"/services/\">Business Solutions</a><a href=\"/intl/en/about.html\">About Google</a></div></div><p style=\"font-size:8pt;color:#70757a\">&copy; 2021 - <a href=\"/intl/en/policies/privacy/\">Privacy</a> - <a href=\"/intl/en/policies/terms/\">Terms</a></p></span></center><script nonce=\"sFUraR0670bo7gj3DyGNuw==\">(function(){window.google.cdo={height:0,width:0};(function(){var a=window.innerWidth,b=window.innerHeight;if(!a||!b){var c=window.document,d=\"CSS1Compat\"==c.compatMode?c.documentElement:c.body;a=d.clientWidth;b=d.clientHeight}a&&b&&(a!=google.cdo.width||b!=google.cdo.height)&&google.log(\"\",\"\",\"/client_204?&atyp=i&biw=\"+a+\"&bih=\"+b+\"&ei=\"+google.kEI);}).call(this);})();(function(){var u=\\'/xjs/_/js/k\\\\x3dxjs.hp.en_US.6QollTfGQvY.O/m\\\\x3dsb_he,d/am\\\\x3dAHiCOA/d\\\\x3d1/rs\\\\x3dACT90oEBJQ_n6AQURN56EE_6l6563x0JFQ\\';\\nvar d=this||self,e=/^[\\\\w+/_-]+[=]{0,2}$/,f=null,g=function(a){return(a=a.querySelector&&a.querySelector(\"script[nonce]\"))&&(a=a.nonce||a.getAttribute(\"nonce\"))&&e.test(a)?a:\"\"},h=function(a){return a};var l;var n=function(a,b){this.g=b===m?a:\"\"};n.prototype.toString=function(){return this.g+\"\"};var m={};function p(){var a=u;google.lx=function(){q(a);google.lx=function(){}};google.bx||google.lx()}\\nfunction q(a){var b=document;var c=\"SCRIPT\";\"application/xhtml+xml\"===b.contentType&&(c=c.toLowerCase());c=b.createElement(c);if(void 0===l){b=null;var k=d.trustedTypes;if(k&&k.createPolicy){try{b=k.createPolicy(\"goog#html\",{createHTML:h,createScript:h,createScriptURL:h})}catch(r){d.console&&d.console.error(r.message)}l=b}else l=b}a=(b=l)?b.createScriptURL(a):a;a=new n(a,m);c.src=a instanceof n&&a.constructor===n?a.g:\"type_error:TrustedResourceUrl\";(a=c.ownerDocument&&c.ownerDocument.defaultView)&&\\na!=d?a=g(a.document):(null===f&&(f=g(d.document)),a=f);a&&c.setAttribute(\"nonce\",a);google.timers&&google.timers.load&&google.tick&&google.tick(\"load\",\"xjsls\");document.body.appendChild(c)};setTimeout(function(){p()},0);})();(function(){window.google.xjsu=\\'/xjs/_/js/k\\\\x3dxjs.hp.en_US.6QollTfGQvY.O/m\\\\x3dsb_he,d/am\\\\x3dAHiCOA/d\\\\x3d1/rs\\\\x3dACT90oEBJQ_n6AQURN56EE_6l6563x0JFQ\\';})();function _DumpException(e){throw e;}\\nfunction _F_installCss(c){}\\n(function(){google.jl={dw:false,em:[],emw:false,lls:\\'default\\',pdt:0,snet:true,uwp:true};})();(function(){var pmc=\\'{\\\\x22d\\\\x22:{},\\\\x22sb_he\\\\x22:{\\\\x22agen\\\\x22:true,\\\\x22cgen\\\\x22:true,\\\\x22client\\\\x22:\\\\x22heirloom-hp\\\\x22,\\\\x22dh\\\\x22:true,\\\\x22dhqt\\\\x22:true,\\\\x22ds\\\\x22:\\\\x22\\\\x22,\\\\x22ffql\\\\x22:\\\\x22en\\\\x22,\\\\x22fl\\\\x22:true,\\\\x22host\\\\x22:\\\\x22google.com\\\\x22,\\\\x22isbh\\\\x22:28,\\\\x22jsonp\\\\x22:true,\\\\x22msgs\\\\x22:{\\\\x22cibl\\\\x22:\\\\x22Clear Search\\\\x22,\\\\x22dym\\\\x22:\\\\x22Did you mean:\\\\x22,\\\\x22lcky\\\\x22:\\\\x22I\\\\\\\\u0026#39;m Feeling Lucky\\\\x22,\\\\x22lml\\\\x22:\\\\x22Learn more\\\\x22,\\\\x22oskt\\\\x22:\\\\x22Input tools\\\\x22,\\\\x22psrc\\\\x22:\\\\x22This search was removed from your \\\\\\\\u003Ca href\\\\x3d\\\\\\\\\\\\x22/history\\\\\\\\\\\\x22\\\\\\\\u003EWeb History\\\\\\\\u003C/a\\\\\\\\u003E\\\\x22,\\\\x22psrl\\\\x22:\\\\x22Remove\\\\x22,\\\\x22sbit\\\\x22:\\\\x22Search by image\\\\x22,\\\\x22srch\\\\x22:\\\\x22Google Search\\\\x22},\\\\x22nrft\\\\x22:false,\\\\x22ovr\\\\x22:{},\\\\x22pq\\\\x22:\\\\x22\\\\x22,\\\\x22refpd\\\\x22:true,\\\\x22rfs\\\\x22:[],\\\\x22sbas\\\\x22:\\\\x220 3px 8px 0 rgba(0,0,0,0.2),0 0 0 1px rgba(0,0,0,0.08)\\\\x22,\\\\x22sbpl\\\\x22:16,\\\\x22sbpr\\\\x22:16,\\\\x22scd\\\\x22:10,\\\\x22stok\\\\x22:\\\\x22cN6fQmlojOhrfAlwHz7qqMa2uPU\\\\x22,\\\\x22uhde\\\\x22:false}}\\';google.pmc=JSON.parse(pmc);})();</script>        </body></html>'\n",
            "---------------\n",
            "b''\n"
          ],
          "name": "stdout"
        }
      ]
    },
    {
      "cell_type": "markdown",
      "metadata": {
        "id": "WzWc3cSXA2oo"
      },
      "source": [
        "###取得json回應內容"
      ]
    },
    {
      "cell_type": "code",
      "metadata": {
        "colab": {
          "base_uri": "https://localhost:8080/"
        },
        "id": "pu2-QAsFAaM9",
        "outputId": "280108a8-2d73-43f2-c3ce-e8f2975c0401"
      },
      "source": [
        "r = requests.get(\"http://httpbin.org/user-agent\")\r\n",
        "print(r.text)\r\n",
        "print(type(r.text))\r\n",
        "print(\"---------------\")\r\n",
        "print(r.json())  #呼叫json()函數剖析JSON資料\r\n",
        "print(type(r.json())) #json資料為dict字典型態"
      ],
      "execution_count": 43,
      "outputs": [
        {
          "output_type": "stream",
          "text": [
            "{\n",
            "  \"user-agent\": \"python-requests/2.23.0\"\n",
            "}\n",
            "\n",
            "<class 'str'>\n",
            "---------------\n",
            "{'user-agent': 'python-requests/2.23.0'}\n",
            "<class 'dict'>\n"
          ],
          "name": "stdout"
        }
      ]
    },
    {
      "cell_type": "markdown",
      "metadata": {
        "id": "YX7OsVR0BYv8"
      },
      "source": [
        "###檢查回應狀態碼\r\n",
        "```\r\n",
        "用 requests.codes.ok 和 requests.all_good 檢查是否成功\r\n",
        "```"
      ]
    },
    {
      "cell_type": "code",
      "metadata": {
        "colab": {
          "base_uri": "https://localhost:8080/"
        },
        "id": "byJd24fyCD21",
        "outputId": "43502fef-f5e4-442d-8a7e-5ab7381d067f"
      },
      "source": [
        "#Ture是成功 False是失敗\r\n",
        "\r\n",
        "r = requests.get(\"https://www.google.com\")\r\n",
        "print(r.status_code)\r\n",
        "print(r.status_code == requests.codes.ok)\r\n",
        "\r\n",
        "r = requests.get(\"https://www.google.com/404\")\r\n",
        "print(r.status_code)\r\n",
        "print(r.status_code == requests.codes.ok)\r\n",
        "\r\n",
        "r = requests.get(\"https://www.google.com\")\r\n",
        "print(r.status_code)\r\n",
        "print(r.status_code == requests.codes.all_good)\r\n",
        "\r\n",
        "\r\n"
      ],
      "execution_count": 47,
      "outputs": [
        {
          "output_type": "stream",
          "text": [
            "200\n",
            "True\n",
            "404\n",
            "False\n",
            "200\n",
            "True\n"
          ],
          "name": "stdout"
        }
      ]
    },
    {
      "cell_type": "markdown",
      "metadata": {
        "id": "lvI-paWwDKHI"
      },
      "source": [
        "當回應狀態碼是 400~599 時,表示請求有錯誤\r\n",
        "```\r\n",
        "可以使用 raise_for_status()函數取得請求錯誤的\r\n",
        "進一步資訊\r\n",
        "```"
      ]
    },
    {
      "cell_type": "code",
      "metadata": {
        "colab": {
          "base_uri": "https://localhost:8080/",
          "height": 365
        },
        "id": "dULu-5UhDqUf",
        "outputId": "534bd83c-3533-4fcc-87ce-5f1d85f4a996"
      },
      "source": [
        "r = requests.get(\"http://www.google.com/404\")\r\n",
        "print(r.status_code)\r\n",
        "print(r.status_code == requests.codes.ok)\r\n",
        "\r\n",
        "print(r.raise_for_status())"
      ],
      "execution_count": 51,
      "outputs": [
        {
          "output_type": "stream",
          "text": [
            "404\n",
            "False\n"
          ],
          "name": "stdout"
        },
        {
          "output_type": "error",
          "ename": "HTTPError",
          "evalue": "ignored",
          "traceback": [
            "\u001b[0;31m---------------------------------------------------------------------------\u001b[0m",
            "\u001b[0;31mHTTPError\u001b[0m                                 Traceback (most recent call last)",
            "\u001b[0;32m<ipython-input-51-e0331ecf3f07>\u001b[0m in \u001b[0;36m<module>\u001b[0;34m()\u001b[0m\n\u001b[1;32m      3\u001b[0m \u001b[0mprint\u001b[0m\u001b[0;34m(\u001b[0m\u001b[0mr\u001b[0m\u001b[0;34m.\u001b[0m\u001b[0mstatus_code\u001b[0m \u001b[0;34m==\u001b[0m \u001b[0mrequests\u001b[0m\u001b[0;34m.\u001b[0m\u001b[0mcodes\u001b[0m\u001b[0;34m.\u001b[0m\u001b[0mok\u001b[0m\u001b[0;34m)\u001b[0m\u001b[0;34m\u001b[0m\u001b[0;34m\u001b[0m\u001b[0m\n\u001b[1;32m      4\u001b[0m \u001b[0;34m\u001b[0m\u001b[0m\n\u001b[0;32m----> 5\u001b[0;31m \u001b[0mprint\u001b[0m\u001b[0;34m(\u001b[0m\u001b[0mr\u001b[0m\u001b[0;34m.\u001b[0m\u001b[0mraise_for_status\u001b[0m\u001b[0;34m(\u001b[0m\u001b[0;34m)\u001b[0m\u001b[0;34m)\u001b[0m\u001b[0;34m\u001b[0m\u001b[0;34m\u001b[0m\u001b[0m\n\u001b[0m",
            "\u001b[0;32m/usr/local/lib/python3.6/dist-packages/requests/models.py\u001b[0m in \u001b[0;36mraise_for_status\u001b[0;34m(self)\u001b[0m\n\u001b[1;32m    939\u001b[0m \u001b[0;34m\u001b[0m\u001b[0m\n\u001b[1;32m    940\u001b[0m         \u001b[0;32mif\u001b[0m \u001b[0mhttp_error_msg\u001b[0m\u001b[0;34m:\u001b[0m\u001b[0;34m\u001b[0m\u001b[0;34m\u001b[0m\u001b[0m\n\u001b[0;32m--> 941\u001b[0;31m             \u001b[0;32mraise\u001b[0m \u001b[0mHTTPError\u001b[0m\u001b[0;34m(\u001b[0m\u001b[0mhttp_error_msg\u001b[0m\u001b[0;34m,\u001b[0m \u001b[0mresponse\u001b[0m\u001b[0;34m=\u001b[0m\u001b[0mself\u001b[0m\u001b[0;34m)\u001b[0m\u001b[0;34m\u001b[0m\u001b[0;34m\u001b[0m\u001b[0m\n\u001b[0m\u001b[1;32m    942\u001b[0m \u001b[0;34m\u001b[0m\u001b[0m\n\u001b[1;32m    943\u001b[0m     \u001b[0;32mdef\u001b[0m \u001b[0mclose\u001b[0m\u001b[0;34m(\u001b[0m\u001b[0mself\u001b[0m\u001b[0;34m)\u001b[0m\u001b[0;34m:\u001b[0m\u001b[0;34m\u001b[0m\u001b[0;34m\u001b[0m\u001b[0m\n",
            "\u001b[0;31mHTTPError\u001b[0m: 404 Client Error: Not Found for url: http://www.google.com/404"
          ]
        }
      ]
    },
    {
      "cell_type": "markdown",
      "metadata": {
        "id": "V9P8ywD3ETnX"
      },
      "source": [
        "#取得回應的標頭資訊\r\n",
        "**標頭名稱區分英文大小寫**"
      ]
    },
    {
      "cell_type": "markdown",
      "metadata": {
        "id": "b8Dhu62jIF4B"
      },
      "source": [
        "####方法1"
      ]
    },
    {
      "cell_type": "code",
      "metadata": {
        "colab": {
          "base_uri": "https://localhost:8080/"
        },
        "id": "WejIQVVTEXcb",
        "outputId": "2cf4bc64-e201-4093-f9dd-fbb6d050c01d"
      },
      "source": [
        "r = requests.get(\"https://httpbin.org/user-agent\")\r\n",
        "\r\n",
        "print(r.headers['Content-Type'])\r\n",
        "print(r.headers['Content-Length'])\r\n",
        "print(r.headers['Date'])\r\n",
        "print(r.headers['Server'])"
      ],
      "execution_count": 73,
      "outputs": [
        {
          "output_type": "stream",
          "text": [
            "application/json\n",
            "45\n",
            "Tue, 23 Feb 2021 04:17:47 GMT\n",
            "gunicorn/19.9.0\n"
          ],
          "name": "stdout"
        }
      ]
    },
    {
      "cell_type": "markdown",
      "metadata": {
        "id": "N417RSo1IMnk"
      },
      "source": [
        "####方法2\r\n",
        "```\r\n",
        "headers.get()\r\n",
        "```"
      ]
    },
    {
      "cell_type": "code",
      "metadata": {
        "colab": {
          "base_uri": "https://localhost:8080/"
        },
        "id": "SClkTyTzIFWM",
        "outputId": "3cfd5546-32d4-42ad-a0b4-ae397d1037f6"
      },
      "source": [
        "r = requests.get(\"http://www.google.com\")\r\n",
        "\r\n",
        "print(r.headers.get('Content-Type'))\r\n",
        "print(r.headers.get('Content-Length'))\r\n",
        "print(r.headers.get('Data'))\r\n",
        "print(r.headers.get('Server'))"
      ],
      "execution_count": 76,
      "outputs": [
        {
          "output_type": "stream",
          "text": [
            "text/html; charset=ISO-8859-1\n",
            "5901\n",
            "None\n",
            "gws\n"
          ],
          "name": "stdout"
        }
      ]
    },
    {
      "cell_type": "markdown",
      "metadata": {
        "id": "EqO__g90G7Ul"
      },
      "source": [
        "Content-Type 的值是 MIME資料類型\r\n",
        "```\r\n",
        "text/html      -> HTML網頁檔案\r\n",
        "text/xml      -> XML問文件的檔案\r\n",
        "text/plain     -> 一般文字檔\r\n",
        "application/json  -> JSON 格式的資料\r\n",
        "image/jpeg     -> JPEG 格式的圖片檔\r\n",
        "image/gif      -> GIF 格式的圖片檔\r\n",
        "image/png      -> PNG 格式的圖片檔\r\n",
        "```"
      ]
    },
    {
      "cell_type": "markdown",
      "metadata": {
        "id": "nhfTAZc7Jhc4"
      },
      "source": [
        "#存取Cookie的Http請求\r\n",
        "```\r\n",
        "Cookie :\r\n",
        "保留使用者在瀏覽器的瀏覽資訊\r\n",
        "Cooke是儲存在瀏覽器電腦,不會浪費Web伺服器的資源\r\n",
        "```"
      ]
    },
    {
      "cell_type": "markdown",
      "metadata": {
        "id": "sj2MOFsbLKD2"
      },
      "source": [
        "####使用cookies屬性來取出Cookie值"
      ]
    },
    {
      "cell_type": "code",
      "metadata": {
        "colab": {
          "base_uri": "https://localhost:8080/",
          "height": 353
        },
        "id": "6gP0gEIrH_4B",
        "outputId": "8fe1be32-9909-4162-9a3f-fee58c5b99a5"
      },
      "source": [
        "r = requests.get(\"http://example.com/\")\r\n",
        "v = r.cookies[\"cookie_name\"]  \r\n",
        "print(v)"
      ],
      "execution_count": 85,
      "outputs": [
        {
          "output_type": "error",
          "ename": "KeyError",
          "evalue": "ignored",
          "traceback": [
            "\u001b[0;31m---------------------------------------------------------------------------\u001b[0m",
            "\u001b[0;31mKeyError\u001b[0m                                  Traceback (most recent call last)",
            "\u001b[0;32m<ipython-input-85-0fb5ff8a18a9>\u001b[0m in \u001b[0;36m<module>\u001b[0;34m()\u001b[0m\n\u001b[1;32m      1\u001b[0m \u001b[0mr\u001b[0m \u001b[0;34m=\u001b[0m \u001b[0mrequests\u001b[0m\u001b[0;34m.\u001b[0m\u001b[0mget\u001b[0m\u001b[0;34m(\u001b[0m\u001b[0;34m\"http://example.com/\"\u001b[0m\u001b[0;34m)\u001b[0m\u001b[0;34m\u001b[0m\u001b[0;34m\u001b[0m\u001b[0m\n\u001b[0;32m----> 2\u001b[0;31m \u001b[0mv\u001b[0m \u001b[0;34m=\u001b[0m \u001b[0mr\u001b[0m\u001b[0;34m.\u001b[0m\u001b[0mcookies\u001b[0m\u001b[0;34m[\u001b[0m\u001b[0;34m\"cookie_name\"\u001b[0m\u001b[0;34m,\u001b[0m\u001b[0;34m\"goo\"\u001b[0m\u001b[0;34m,\u001b[0m\u001b[0;34m\"gg\"\u001b[0m\u001b[0;34m]\u001b[0m\u001b[0;34m\u001b[0m\u001b[0;34m\u001b[0m\u001b[0m\n\u001b[0m\u001b[1;32m      3\u001b[0m \u001b[0mprint\u001b[0m\u001b[0;34m(\u001b[0m\u001b[0mv\u001b[0m\u001b[0;34m)\u001b[0m\u001b[0;34m\u001b[0m\u001b[0;34m\u001b[0m\u001b[0m\n",
            "\u001b[0;32m/usr/local/lib/python3.6/dist-packages/requests/cookies.py\u001b[0m in \u001b[0;36m__getitem__\u001b[0;34m(self, name)\u001b[0m\n\u001b[1;32m    326\u001b[0m         \u001b[0;34m.\u001b[0m\u001b[0;34m.\u001b[0m \u001b[0mwarning\u001b[0m\u001b[0;34m:\u001b[0m\u001b[0;34m:\u001b[0m \u001b[0moperation\u001b[0m \u001b[0;32mis\u001b[0m \u001b[0mO\u001b[0m\u001b[0;34m(\u001b[0m\u001b[0mn\u001b[0m\u001b[0;34m)\u001b[0m\u001b[0;34m,\u001b[0m \u001b[0;32mnot\u001b[0m \u001b[0mO\u001b[0m\u001b[0;34m(\u001b[0m\u001b[0;36m1\u001b[0m\u001b[0;34m)\u001b[0m\u001b[0;34m.\u001b[0m\u001b[0;34m\u001b[0m\u001b[0;34m\u001b[0m\u001b[0m\n\u001b[1;32m    327\u001b[0m         \"\"\"\n\u001b[0;32m--> 328\u001b[0;31m         \u001b[0;32mreturn\u001b[0m \u001b[0mself\u001b[0m\u001b[0;34m.\u001b[0m\u001b[0m_find_no_duplicates\u001b[0m\u001b[0;34m(\u001b[0m\u001b[0mname\u001b[0m\u001b[0;34m)\u001b[0m\u001b[0;34m\u001b[0m\u001b[0;34m\u001b[0m\u001b[0m\n\u001b[0m\u001b[1;32m    329\u001b[0m \u001b[0;34m\u001b[0m\u001b[0m\n\u001b[1;32m    330\u001b[0m     \u001b[0;32mdef\u001b[0m \u001b[0m__setitem__\u001b[0m\u001b[0;34m(\u001b[0m\u001b[0mself\u001b[0m\u001b[0;34m,\u001b[0m \u001b[0mname\u001b[0m\u001b[0;34m,\u001b[0m \u001b[0mvalue\u001b[0m\u001b[0;34m)\u001b[0m\u001b[0;34m:\u001b[0m\u001b[0;34m\u001b[0m\u001b[0;34m\u001b[0m\u001b[0m\n",
            "\u001b[0;32m/usr/local/lib/python3.6/dist-packages/requests/cookies.py\u001b[0m in \u001b[0;36m_find_no_duplicates\u001b[0;34m(self, name, domain, path)\u001b[0m\n\u001b[1;32m    397\u001b[0m         \u001b[0;32mif\u001b[0m \u001b[0mtoReturn\u001b[0m\u001b[0;34m:\u001b[0m\u001b[0;34m\u001b[0m\u001b[0;34m\u001b[0m\u001b[0m\n\u001b[1;32m    398\u001b[0m             \u001b[0;32mreturn\u001b[0m \u001b[0mtoReturn\u001b[0m\u001b[0;34m\u001b[0m\u001b[0;34m\u001b[0m\u001b[0m\n\u001b[0;32m--> 399\u001b[0;31m         \u001b[0;32mraise\u001b[0m \u001b[0mKeyError\u001b[0m\u001b[0;34m(\u001b[0m\u001b[0;34m'name=%r, domain=%r, path=%r'\u001b[0m \u001b[0;34m%\u001b[0m \u001b[0;34m(\u001b[0m\u001b[0mname\u001b[0m\u001b[0;34m,\u001b[0m \u001b[0mdomain\u001b[0m\u001b[0;34m,\u001b[0m \u001b[0mpath\u001b[0m\u001b[0;34m)\u001b[0m\u001b[0;34m)\u001b[0m\u001b[0;34m\u001b[0m\u001b[0;34m\u001b[0m\u001b[0m\n\u001b[0m\u001b[1;32m    400\u001b[0m \u001b[0;34m\u001b[0m\u001b[0m\n\u001b[1;32m    401\u001b[0m     \u001b[0;32mdef\u001b[0m \u001b[0m__getstate__\u001b[0m\u001b[0;34m(\u001b[0m\u001b[0mself\u001b[0m\u001b[0;34m)\u001b[0m\u001b[0;34m:\u001b[0m\u001b[0;34m\u001b[0m\u001b[0;34m\u001b[0m\u001b[0m\n",
            "\u001b[0;31mKeyError\u001b[0m: \"name=('cookie_name', 'goo', 'gg'), domain=None, path=None\""
          ]
        }
      ]
    },
    {
      "cell_type": "markdown",
      "metadata": {
        "id": "PyzsYDY-NG_O"
      },
      "source": [
        "###送出Cookie的Http請求"
      ]
    },
    {
      "cell_type": "code",
      "metadata": {
        "colab": {
          "base_uri": "https://localhost:8080/"
        },
        "id": "pPhmDiSWMw-i",
        "outputId": "0ec642dc-a4ff-4154-922f-34b9d4f507f2"
      },
      "source": [
        "url = \"http://httpbin.org/cookies\"\r\n",
        "\r\n",
        "cookies = dict(name='Ruby Dog')\r\n",
        "r = requests.get(url,cookies=cookies)\r\n",
        "print(r.text)"
      ],
      "execution_count": 86,
      "outputs": [
        {
          "output_type": "stream",
          "text": [
            "{\n",
            "  \"cookies\": {\n",
            "    \"name\": \"Ruby Dog\"\n",
            "  }\n",
            "}\n",
            "\n"
          ],
          "name": "stdout"
        }
      ]
    },
    {
      "cell_type": "markdown",
      "metadata": {
        "id": "F7PA16G1NRKt"
      },
      "source": [
        "# 建立自訂HTTP標頭的請HTTP請求"
      ]
    },
    {
      "cell_type": "code",
      "metadata": {
        "colab": {
          "base_uri": "https://localhost:8080/"
        },
        "id": "82iZ4VEINvlv",
        "outputId": "b337c0c9-e9c7-4e93-dc45-21e277db0f8f"
      },
      "source": [
        "url = \"http://httpbin.org/user-agent\"\r\n",
        "\r\n",
        "#以Requests套件送出的HTTP請求\r\n",
        "\r\n",
        "r = requests.get(url)\r\n",
        "print(r.text)\r\n",
        "\r\n",
        "print(\"----------\")\r\n",
        "\r\n",
        "#模擬成Chrome瀏覽器送出的HTTP請求\r\n",
        "\r\n",
        "url_headers = {\r\n",
        "  \"user-agent\": \"Mozilla/5.0 (Windows NT 10.0; Win64; x64) AppleWebKit/537.36 (KHTML, like Gecko) Chrome/88.0.4324.182 Safari/537.36\"\r\n",
        "}\r\n",
        "\r\n",
        "r = requests.get(url,headers=url_headers)\r\n",
        "print(r.text)"
      ],
      "execution_count": 88,
      "outputs": [
        {
          "output_type": "stream",
          "text": [
            "{\n",
            "  \"user-agent\": \"python-requests/2.23.0\"\n",
            "}\n",
            "\n",
            "----------\n",
            "{\n",
            "  \"user-agent\": \"Mozilla/5.0 (Windows NT 10.0; Win64; x64) AppleWebKit/537.36 (KHTML, like Gecko) Chrome/88.0.4324.182 Safari/537.36\"\n",
            "}\n",
            "\n"
          ],
          "name": "stdout"
        }
      ]
    },
    {
      "cell_type": "markdown",
      "metadata": {
        "id": "YdTBxBorPOo1"
      },
      "source": [
        "# 送出 RESTful API 的HTTP請求"
      ]
    },
    {
      "cell_type": "code",
      "metadata": {
        "colab": {
          "base_uri": "https://localhost:8080/"
        },
        "id": "gjIyMfraPkY5",
        "outputId": "422707cc-6821-4bb1-c161-5f8791652c33"
      },
      "source": [
        "url = \"https://www.googleapis.com/books/v1/volumes\"\r\n",
        "\r\n",
        "url_params = {'q':'python',\r\n",
        "        'maxResult':5,\r\n",
        "        'projection':'lite'}\r\n",
        "\r\n",
        "r = requests.get(url,params=url_params)\r\n",
        "print(r.json())"
      ],
      "execution_count": 93,
      "outputs": [
        {
          "output_type": "stream",
          "text": [
            "{'kind': 'books#volumes', 'totalItems': 1507, 'items': [{'kind': 'books#volume', 'id': 'BcN0swEACAAJ', 'etag': 'LOC5AYVXGhY', 'selfLink': 'https://www.googleapis.com/books/v1/volumes/BcN0swEACAAJ', 'volumeInfo': {'title': 'Python Tricks', 'subtitle': 'The Book', 'authors': ['Dan Bader'], 'publisher': 'Dan Bader', 'publishedDate': '2017', 'description': '\"I don\\'t even feel like I\\'ve scratched the surface of what I can do with Python\" With Python Tricks: The Book you\\'ll discover Python\\'s best practices and the power of beautiful & Pythonic code with simple examples and a step-by-step narrative. You\\'ll get one step closer to mastering Python, so you can write beautiful and idiomatic code that comes to you naturally. Learning the ins and outs of Python is difficult-and with this book you\\'ll be able to focus on the practical skills that really matter. Discover the \"hidden gold\" in Python\\'s standard library and start writing clean and Pythonic code today. Who Should Read This Book: If you\\'re wondering which lesser known parts in Python you should know about, you\\'ll get a roadmap with this book. Discover cool (yet practical!) Python tricks and blow your coworkers\\' minds in your next code review. If you\\'ve got experience with legacy versions of Python, the book will get you up to speed with modern patterns and features introduced in Python 3 and backported to Python 2. If you\\'ve worked with other programming languages and you want to get up to speed with Python, you\\'ll pick up the idioms and practical tips you need to become a confident and effective Pythonista. If you want to make Python your own and learn how to write clean and Pythonic code, you\\'ll discover best practices and little-known tricks to round out your knowledge. What Python Developers Say About The Book: \"I kept thinking that I wished I had access to a book like this when I started learning Python many years ago.\" - Mariatta Wijaya, Python Core Developer \"This book makes you write better Python code!\" - Bob Belderbos, Software Developer at Oracle \"Far from being just a shallow collection of snippets, this book will leave the attentive reader with a deeper understanding of the inner workings of Python as well as an appreciation for its beauty.\" - Ben Felder, Pythonista \"It\\'s like having a seasoned tutor explaining, well, tricks!\" - Daniel Meyer, Sr. Desktop Administrator at Tesla Inc.', 'readingModes': {'text': False, 'image': False}, 'maturityRating': 'NOT_MATURE', 'allowAnonLogging': False, 'contentVersion': 'preview-1.0.0', 'panelizationSummary': {'containsEpubBubbles': False, 'containsImageBubbles': False}, 'imageLinks': {'smallThumbnail': 'http://books.google.com/books/content?id=BcN0swEACAAJ&printsec=frontcover&img=1&zoom=5&source=gbs_api', 'thumbnail': 'http://books.google.com/books/content?id=BcN0swEACAAJ&printsec=frontcover&img=1&zoom=1&source=gbs_api'}, 'previewLink': 'http://books.google.com/books?id=BcN0swEACAAJ&dq=python&hl=&cd=1&source=gbs_api', 'infoLink': 'http://books.google.com/books?id=BcN0swEACAAJ&dq=python&hl=&source=gbs_api', 'canonicalVolumeLink': 'https://books.google.com/books/about/Python_Tricks.html?hl=&id=BcN0swEACAAJ'}, 'saleInfo': {'country': 'US'}, 'accessInfo': {'country': 'US', 'epub': {'isAvailable': False}, 'pdf': {'isAvailable': False}, 'accessViewStatus': 'NONE'}, 'searchInfo': {'textSnippet': '&quot;With Python Tricks: The Book you&#39;ll discover Python&#39;s best practices and the power of beautiful &amp; Pythonic code with simple examples and a step-by-step narrative.&quot;--Back cover.'}}, {'kind': 'books#volume', 'id': '4pgQfXQvekcC', 'etag': 'QA3qYCztDyw', 'selfLink': 'https://www.googleapis.com/books/v1/volumes/4pgQfXQvekcC', 'volumeInfo': {'title': 'Learning Python', 'subtitle': 'Powerful Object-Oriented Programming', 'authors': ['Mark Lutz'], 'publisher': '\"O\\'Reilly Media, Inc.\"', 'publishedDate': '2013-06-12', 'description': 'Get a comprehensive, in-depth introduction to the core Python language with this hands-on book. Based on author Mark Lutz’s popular training course, this updated fifth edition will help you quickly write efficient, high-quality code with Python. It’s an ideal way to begin, whether you’re new to programming or a professional developer versed in other languages. Complete with quizzes, exercises, and helpful illustrations, this easy-to-follow, self-paced tutorial gets you started with both Python 2.7 and 3.3— the latest releases in the 3.X and 2.X lines—plus all other releases in common use today. You’ll also learn some advanced language features that recently have become more common in Python code. Explore Python’s major built-in object types such as numbers, lists, and dictionaries Create and process objects with Python statements, and learn Python’s general syntax model Use functions to avoid code redundancy and package code for reuse Organize statements, functions, and other tools into larger components with modules Dive into classes: Python’s object-oriented programming tool for structuring code Write large programs with Python’s exception-handling model and development tools Learn advanced Python tools, including decorators, descriptors, metaclasses, and Unicode processing', 'readingModes': {'text': True, 'image': True}, 'maturityRating': 'NOT_MATURE', 'allowAnonLogging': True, 'contentVersion': '1.36.39.0.preview.3', 'panelizationSummary': {'containsEpubBubbles': False, 'containsImageBubbles': False}, 'imageLinks': {'smallThumbnail': 'http://books.google.com/books/content?id=4pgQfXQvekcC&printsec=frontcover&img=1&zoom=5&edge=curl&source=gbs_api', 'thumbnail': 'http://books.google.com/books/content?id=4pgQfXQvekcC&printsec=frontcover&img=1&zoom=1&edge=curl&source=gbs_api'}, 'previewLink': 'http://books.google.com/books?id=4pgQfXQvekcC&printsec=frontcover&dq=python&hl=&cd=2&source=gbs_api', 'infoLink': 'https://play.google.com/store/books/details?id=4pgQfXQvekcC&source=gbs_api', 'canonicalVolumeLink': 'https://play.google.com/store/books/details?id=4pgQfXQvekcC'}, 'saleInfo': {'country': 'US', 'listPrice': {'amount': 63.99, 'currencyCode': 'USD'}, 'retailPrice': {'amount': 37.49, 'currencyCode': 'USD'}, 'buyLink': 'https://play.google.com/store/books/details?id=4pgQfXQvekcC&rdid=book-4pgQfXQvekcC&rdot=1&source=gbs_api', 'offers': [{'finskyOfferType': 1, 'listPrice': {'amountInMicros': 63990000, 'currencyCode': 'USD'}, 'retailPrice': {'amountInMicros': 37490000, 'currencyCode': 'USD'}, 'giftable': True}]}, 'accessInfo': {'country': 'US', 'epub': {'isAvailable': True}, 'pdf': {'isAvailable': True}, 'accessViewStatus': 'SAMPLE'}, 'searchInfo': {'textSnippet': 'Get a comprehensive, in-depth introduction to the core Python language with this hands-on book.'}}, {'kind': 'books#volume', 'id': '6omNDQAAQBAJ', 'etag': 'WAfahZwqBIk', 'selfLink': 'https://www.googleapis.com/books/v1/volumes/6omNDQAAQBAJ', 'volumeInfo': {'title': 'Python Data Science Handbook', 'subtitle': 'Essential Tools for Working with Data', 'authors': ['Jake VanderPlas'], 'publisher': '\"O\\'Reilly Media, Inc.\"', 'publishedDate': '2016-11-21', 'description': 'For many researchers, Python is a first-class tool mainly because of its libraries for storing, manipulating, and gaining insight from data. Several resources exist for individual pieces of this data science stack, but only with the Python Data Science Handbook do you get them all—IPython, NumPy, Pandas, Matplotlib, Scikit-Learn, and other related tools. Working scientists and data crunchers familiar with reading and writing Python code will find this comprehensive desk reference ideal for tackling day-to-day issues: manipulating, transforming, and cleaning data; visualizing different types of data; and using data to build statistical or machine learning models. Quite simply, this is the must-have reference for scientific computing in Python. With this handbook, you’ll learn how to use: IPython and Jupyter: provide computational environments for data scientists using Python NumPy: includes the ndarray for efficient storage and manipulation of dense data arrays in Python Pandas: features the DataFrame for efficient storage and manipulation of labeled/columnar data in Python Matplotlib: includes capabilities for a flexible range of data visualizations in Python Scikit-Learn: for efficient and clean Python implementations of the most important and established machine learning algorithms', 'readingModes': {'text': True, 'image': True}, 'maturityRating': 'NOT_MATURE', 'allowAnonLogging': True, 'contentVersion': '1.3.4.0.preview.3', 'panelizationSummary': {'containsEpubBubbles': False, 'containsImageBubbles': False}, 'imageLinks': {'smallThumbnail': 'http://books.google.com/books/content?id=6omNDQAAQBAJ&printsec=frontcover&img=1&zoom=5&edge=curl&source=gbs_api', 'thumbnail': 'http://books.google.com/books/content?id=6omNDQAAQBAJ&printsec=frontcover&img=1&zoom=1&edge=curl&source=gbs_api'}, 'previewLink': 'http://books.google.com/books?id=6omNDQAAQBAJ&printsec=frontcover&dq=python&hl=&cd=3&source=gbs_api', 'infoLink': 'https://play.google.com/store/books/details?id=6omNDQAAQBAJ&source=gbs_api', 'canonicalVolumeLink': 'https://play.google.com/store/books/details?id=6omNDQAAQBAJ'}, 'saleInfo': {'country': 'US', 'listPrice': {'amount': 59.99, 'currencyCode': 'USD'}, 'retailPrice': {'amount': 34.99, 'currencyCode': 'USD'}, 'buyLink': 'https://play.google.com/store/books/details?id=6omNDQAAQBAJ&rdid=book-6omNDQAAQBAJ&rdot=1&source=gbs_api', 'offers': [{'finskyOfferType': 1, 'listPrice': {'amountInMicros': 59990000, 'currencyCode': 'USD'}, 'retailPrice': {'amountInMicros': 34990000, 'currencyCode': 'USD'}, 'giftable': True}]}, 'accessInfo': {'country': 'US', 'epub': {'isAvailable': True}, 'pdf': {'isAvailable': True}, 'accessViewStatus': 'SAMPLE'}, 'searchInfo': {'textSnippet': 'With this handbook, you’ll learn how to use: IPython and Jupyter: provide computational environments for data scientists using Python NumPy: includes the ndarray for efficient storage and manipulation of dense data arrays in Python Pandas ...'}}, {'kind': 'books#volume', 'id': 'zjqzDAEACAAJ', 'etag': 'm+/VmOqVSY4', 'selfLink': 'https://www.googleapis.com/books/v1/volumes/zjqzDAEACAAJ', 'volumeInfo': {'title': 'Python for Everybody', 'subtitle': 'Exploring Data in Python 3', 'authors': ['Charles R. Severance'], 'publishedDate': '2016-04-09', 'description': 'Python for Everybody is designed to introduce students to programming and software development through the lens of exploring data. You can think of the Python programming language as your tool to solve data problems that are beyond the capability of a spreadsheet.Python is an easy to use and easy to learn programming language that is freely available on Macintosh, Windows, or Linux computers. So once you learn Python you can use it for the rest of your career without needing to purchase any software.This book uses the Python 3 language. The earlier Python 2 version of this book is titled \"Python for Informatics: Exploring Information\".There are free downloadable electronic copies of this book in various formats and supporting materials for the book at www.pythonlearn.com. The course materials are available to you under a Creative Commons License so you can adapt them to teach your own Python course.', 'readingModes': {'text': False, 'image': False}, 'maturityRating': 'NOT_MATURE', 'allowAnonLogging': False, 'contentVersion': 'preview-1.0.0', 'panelizationSummary': {'containsEpubBubbles': False, 'containsImageBubbles': False}, 'imageLinks': {'smallThumbnail': 'http://books.google.com/books/content?id=zjqzDAEACAAJ&printsec=frontcover&img=1&zoom=5&source=gbs_api', 'thumbnail': 'http://books.google.com/books/content?id=zjqzDAEACAAJ&printsec=frontcover&img=1&zoom=1&source=gbs_api'}, 'previewLink': 'http://books.google.com/books?id=zjqzDAEACAAJ&dq=python&hl=&cd=4&source=gbs_api', 'infoLink': 'http://books.google.com/books?id=zjqzDAEACAAJ&dq=python&hl=&source=gbs_api', 'canonicalVolumeLink': 'https://books.google.com/books/about/Python_for_Everybody.html?hl=&id=zjqzDAEACAAJ'}, 'saleInfo': {'country': 'US'}, 'accessInfo': {'country': 'US', 'epub': {'isAvailable': False}, 'pdf': {'isAvailable': False}, 'accessViewStatus': 'NONE'}, 'searchInfo': {'textSnippet': '&quot;Designed to teach people to program even if they have no prior experience.'}}, {'kind': 'books#volume', 'id': '8AcvDwAAQBAJ', 'etag': 'GnQRszUUcM4', 'selfLink': 'https://www.googleapis.com/books/v1/volumes/8AcvDwAAQBAJ', 'volumeInfo': {'title': 'Automate the Boring Stuff with Python', 'subtitle': 'Practical Programming for Total Beginners', 'authors': ['Al Sweigart'], 'publisher': 'No Starch Press', 'publishedDate': '2015-04-14', 'description': 'If you’ve ever spent hours renaming files or updating hundreds of spreadsheet cells, you know how tedious tasks like these can be. But what if you could have your computer do them for you? In Automate the Boring Stuff with Python, you’ll learn how to use Python to write programs that do in minutes what would take you hours to do by hand—no prior programming experience required. Once you’ve mastered the basics of programming, you’ll create Python programs that effortlessly perform useful and impressive feats of automation to: –Search for text in a file or across multiple files –Create, update, move, and rename files and folders –Search the Web and download online content –Update and format data in Excel spreadsheets of any size –Split, merge, watermark, and encrypt PDFs –Send reminder emails and text notifications –Fill out online forms Step-by-step instructions walk you through each program, and practice projects at the end of each chapter challenge you to improve those programs and use your newfound skills to automate similar tasks. Don’t spend your time doing work a well-trained monkey could do. Even if you’ve never written a line of code, you can make your computer do the grunt work. Learn how in Automate the Boring Stuff with Python. Note: The programs in this book are written to run on Python 3.', 'readingModes': {'text': True, 'image': False}, 'maturityRating': 'NOT_MATURE', 'allowAnonLogging': True, 'contentVersion': 'preview-1.0.0', 'panelizationSummary': {'containsEpubBubbles': False, 'containsImageBubbles': False}, 'imageLinks': {'smallThumbnail': 'http://books.google.com/books/content?id=8AcvDwAAQBAJ&printsec=frontcover&img=1&zoom=5&edge=curl&source=gbs_api', 'thumbnail': 'http://books.google.com/books/content?id=8AcvDwAAQBAJ&printsec=frontcover&img=1&zoom=1&edge=curl&source=gbs_api'}, 'previewLink': 'http://books.google.com/books?id=8AcvDwAAQBAJ&printsec=frontcover&dq=python&hl=&cd=5&source=gbs_api', 'infoLink': 'https://play.google.com/store/books/details?id=8AcvDwAAQBAJ&source=gbs_api', 'canonicalVolumeLink': 'https://play.google.com/store/books/details?id=8AcvDwAAQBAJ'}, 'saleInfo': {'country': 'US', 'listPrice': {'amount': 17.99, 'currencyCode': 'USD'}, 'retailPrice': {'amount': 17.99, 'currencyCode': 'USD'}, 'buyLink': 'https://play.google.com/store/books/details?id=8AcvDwAAQBAJ&rdid=book-8AcvDwAAQBAJ&rdot=1&source=gbs_api', 'offers': [{'finskyOfferType': 1, 'listPrice': {'amountInMicros': 17990000, 'currencyCode': 'USD'}, 'retailPrice': {'amountInMicros': 17990000, 'currencyCode': 'USD'}, 'giftable': True}]}, 'accessInfo': {'country': 'US', 'epub': {'isAvailable': True}, 'pdf': {'isAvailable': False}, 'accessViewStatus': 'SAMPLE'}, 'searchInfo': {'textSnippet': 'Even if you’ve never written a line of code, you can make your computer do the grunt work. Learn how in Automate the Boring Stuff with Python. Note: The programs in this book are written to run on Python 3.'}}, {'kind': 'books#volume', 'id': '9dW8DwAAQBAJ', 'etag': '5tuu960mdpM', 'selfLink': 'https://www.googleapis.com/books/v1/volumes/9dW8DwAAQBAJ', 'volumeInfo': {'title': 'Introducing Python', 'subtitle': 'Modern Computing in Simple Packages', 'authors': ['Bill Lubanovic'], 'publisher': \"O'Reilly Media\", 'publishedDate': '2019-11-06', 'description': 'Easy to understand and fun to read, this updated edition of Introducing Python is ideal for beginning programmers as well as those new to the language. Author Bill Lubanovic takes you from the basics to more involved and varied topics, mixing tutorials with cookbook-style code recipes to explain concepts in Python 3. End-of-chapter exercises help you practice what you’ve learned. You’ll gain a strong foundation in the language, including best practices for testing, debugging, code reuse, and other development tips. This book also shows you how to use Python for applications in business, science, and the arts, using various Python tools and open source packages.', 'readingModes': {'text': False, 'image': True}, 'maturityRating': 'NOT_MATURE', 'allowAnonLogging': False, 'contentVersion': 'preview-1.0.0', 'panelizationSummary': {'containsEpubBubbles': False, 'containsImageBubbles': False}, 'imageLinks': {'smallThumbnail': 'http://books.google.com/books/content?id=9dW8DwAAQBAJ&printsec=frontcover&img=1&zoom=5&edge=curl&source=gbs_api', 'thumbnail': 'http://books.google.com/books/content?id=9dW8DwAAQBAJ&printsec=frontcover&img=1&zoom=1&edge=curl&source=gbs_api'}, 'previewLink': 'http://books.google.com/books?id=9dW8DwAAQBAJ&pg=PA17&dq=python&hl=&cd=6&source=gbs_api', 'infoLink': 'http://books.google.com/books?id=9dW8DwAAQBAJ&dq=python&hl=&source=gbs_api', 'canonicalVolumeLink': 'https://books.google.com/books/about/Introducing_Python.html?hl=&id=9dW8DwAAQBAJ'}, 'saleInfo': {'country': 'US'}, 'accessInfo': {'country': 'US', 'epub': {'isAvailable': False}, 'pdf': {'isAvailable': False}, 'accessViewStatus': 'SAMPLE'}, 'searchInfo': {'textSnippet': 'Here are some solutions: • Sometimes a better algorithm (a stepwise solution) in <br>\\n<b>Python</b> beats an inefficient one in C. The greater speed of development in <b>Python</b> <br>\\ngives you more time to experiment with alternatives. • In many applications&nbsp;...'}}, {'kind': 'books#volume', 'id': 'b1v6DwAAQBAJ', 'etag': '2ctxt3G/ZDs', 'selfLink': 'https://www.googleapis.com/books/v1/volumes/b1v6DwAAQBAJ', 'volumeInfo': {'title': 'Serious Python', 'subtitle': 'Black-belt Advice on Deployment, Scalability, Testing, and More', 'authors': ['Julien Danjou'], 'publisher': 'No Starch Press', 'publishedDate': '2018-12-27', 'description': '\"Covers Python 2 and 3\"--Page 4 of cover.', 'readingModes': {'text': False, 'image': False}, 'maturityRating': 'NOT_MATURE', 'allowAnonLogging': False, 'contentVersion': 'preview-1.0.0', 'panelizationSummary': {'containsEpubBubbles': False, 'containsImageBubbles': False}, 'imageLinks': {'smallThumbnail': 'http://books.google.com/books/content?id=b1v6DwAAQBAJ&printsec=frontcover&img=1&zoom=5&edge=curl&source=gbs_api', 'thumbnail': 'http://books.google.com/books/content?id=b1v6DwAAQBAJ&printsec=frontcover&img=1&zoom=1&edge=curl&source=gbs_api'}, 'previewLink': 'http://books.google.com/books?id=b1v6DwAAQBAJ&pg=PA6&dq=python&hl=&cd=7&source=gbs_api', 'infoLink': 'http://books.google.com/books?id=b1v6DwAAQBAJ&dq=python&hl=&source=gbs_api', 'canonicalVolumeLink': 'https://books.google.com/books/about/Serious_Python.html?hl=&id=b1v6DwAAQBAJ'}, 'saleInfo': {'country': 'US'}, 'accessInfo': {'country': 'US', 'epub': {'isAvailable': False}, 'pdf': {'isAvailable': False}, 'accessViewStatus': 'SAMPLE'}, 'searchInfo': {'textSnippet': 'June 27 , 2018 , will be supported until <b>Python</b> 3.8 is released , which should be <br>\\naround October 2019. Around December 2019 , a last bug - fix release of <b>Python</b> <br>\\n3.7 will occur , and everyone will be expected to switch to <b>Python</b> 3.8 . Each new<br>\\n&nbsp;...'}}, {'kind': 'books#volume', 'id': 'w1v6DwAAQBAJ', 'etag': '57y2IpD2bXE', 'selfLink': 'https://www.googleapis.com/books/v1/volumes/w1v6DwAAQBAJ', 'volumeInfo': {'title': 'Python Crash Course', 'subtitle': 'A Hands-on, Project-based Introduction to Programming', 'authors': ['Eric Matthes'], 'publishedDate': '2019-05', 'description': 'Python Crash Course, 2nd Edition is a straightforward introduction to the core of Python programming. Author Eric Matthes dispenses with the sort of tedious, unnecessary information that can get in the way of learning how to program, choosing instead to provide a foundation in general programming concepts, Python fundamentals, and problem solving. Three real world projects in the second part of the book allow readers to apply their knowledge in useful ways. Readers will learn how to create a simple video game, use data visualisation techniques to make graphs and charts, and build and deploy an interactive web application.', 'readingModes': {'text': False, 'image': False}, 'maturityRating': 'NOT_MATURE', 'allowAnonLogging': False, 'contentVersion': 'preview-1.0.0', 'panelizationSummary': {'containsEpubBubbles': False, 'containsImageBubbles': False}, 'imageLinks': {'smallThumbnail': 'http://books.google.com/books/content?id=w1v6DwAAQBAJ&printsec=frontcover&img=1&zoom=5&edge=curl&source=gbs_api', 'thumbnail': 'http://books.google.com/books/content?id=w1v6DwAAQBAJ&printsec=frontcover&img=1&zoom=1&edge=curl&source=gbs_api'}, 'previewLink': 'http://books.google.com/books?id=w1v6DwAAQBAJ&pg=PA7&dq=python&hl=&cd=8&source=gbs_api', 'infoLink': 'http://books.google.com/books?id=w1v6DwAAQBAJ&dq=python&hl=&source=gbs_api', 'canonicalVolumeLink': 'https://books.google.com/books/about/Python_Crash_Course.html?hl=&id=w1v6DwAAQBAJ'}, 'saleInfo': {'country': 'US'}, 'accessInfo': {'country': 'US', 'epub': {'isAvailable': False}, 'pdf': {'isAvailable': False}, 'accessViewStatus': 'SAMPLE'}, 'searchInfo': {'textSnippet': '<b>Python</b> on macOS <b>Python</b> is already installed on most macOS systems , but it&#39;s <br>\\nmost likely an outdated version that you won&#39;t want to learn on . In this section , <br>\\nyou&#39;ll install the latest version of <b>Python</b> , and then you&#39;ll install Sublime Text and<br>\\n&nbsp;...'}}, {'kind': 'books#volume', 'id': 'OGj6DwAAQBAJ', 'etag': 'Cx8fnuDrh1c', 'selfLink': 'https://www.googleapis.com/books/v1/volumes/OGj6DwAAQBAJ', 'volumeInfo': {'title': 'Readings from Python Fundamentals', 'authors': ['Cengage Cengage'], 'publishedDate': '2020', 'readingModes': {'text': False, 'image': True}, 'maturityRating': 'NOT_MATURE', 'allowAnonLogging': False, 'contentVersion': 'preview-1.0.0', 'panelizationSummary': {'containsEpubBubbles': False, 'containsImageBubbles': False}, 'imageLinks': {'smallThumbnail': 'http://books.google.com/books/content?id=OGj6DwAAQBAJ&printsec=frontcover&img=1&zoom=5&edge=curl&source=gbs_api', 'thumbnail': 'http://books.google.com/books/content?id=OGj6DwAAQBAJ&printsec=frontcover&img=1&zoom=1&edge=curl&source=gbs_api'}, 'previewLink': 'http://books.google.com/books?id=OGj6DwAAQBAJ&pg=PA2&dq=python&hl=&cd=9&source=gbs_api', 'infoLink': 'http://books.google.com/books?id=OGj6DwAAQBAJ&dq=python&hl=&source=gbs_api', 'canonicalVolumeLink': 'https://books.google.com/books/about/Readings_from_Python_Fundamentals.html?hl=&id=OGj6DwAAQBAJ'}, 'saleInfo': {'country': 'US'}, 'accessInfo': {'country': 'US', 'epub': {'isAvailable': False}, 'pdf': {'isAvailable': False}, 'accessViewStatus': 'SAMPLE'}, 'searchInfo': {'textSnippet': 'This versatility, coupled with <b>Python&#39;s</b> ability to run on all operating system <br>\\nplatforms from Windows and GNU/Linux to macOS, have led to its popularity. As <br>\\na matter of fact, today, <b>Python</b> comes built into most GNU/Linux distributions as <br>\\nwell as&nbsp;...'}}, {'kind': 'books#volume', 'id': '2qd9DwAAQBAJ', 'etag': '9vFk4TDmeTI', 'selfLink': 'https://www.googleapis.com/books/v1/volumes/2qd9DwAAQBAJ', 'volumeInfo': {'title': 'Python for Finance', 'subtitle': 'Mastering Data-Driven Finance', 'authors': ['Yves Hilpisch'], 'publisher': \"O'Reilly Media\", 'publishedDate': '2018-12-05', 'description': 'The financial industry has recently adopted Python at a tremendous rate, with some of the largest investment banks and hedge funds using it to build core trading and risk management systems. Updated for Python 3, the second edition of this hands-on book helps you get started with the language, guiding developers and quantitative analysts through Python libraries and tools for building financial applications and interactive financial analytics. Using practical examples throughout the book, author Yves Hilpisch also shows you how to develop a full-fledged framework for Monte Carlo simulation-based derivatives and risk analytics, based on a large, realistic case study. Much of the book uses interactive IPython Notebooks.', 'readingModes': {'text': False, 'image': True}, 'maturityRating': 'NOT_MATURE', 'allowAnonLogging': False, 'contentVersion': '0.5.0.0.preview.1', 'panelizationSummary': {'containsEpubBubbles': False, 'containsImageBubbles': False}, 'imageLinks': {'smallThumbnail': 'http://books.google.com/books/content?id=2qd9DwAAQBAJ&printsec=frontcover&img=1&zoom=5&edge=curl&source=gbs_api', 'thumbnail': 'http://books.google.com/books/content?id=2qd9DwAAQBAJ&printsec=frontcover&img=1&zoom=1&edge=curl&source=gbs_api'}, 'previewLink': 'http://books.google.com/books?id=2qd9DwAAQBAJ&pg=PA5&dq=python&hl=&cd=10&source=gbs_api', 'infoLink': 'http://books.google.com/books?id=2qd9DwAAQBAJ&dq=python&hl=&source=gbs_api', 'canonicalVolumeLink': 'https://books.google.com/books/about/Python_for_Finance.html?hl=&id=2qd9DwAAQBAJ'}, 'saleInfo': {'country': 'US'}, 'accessInfo': {'country': 'US', 'epub': {'isAvailable': False}, 'pdf': {'isAvailable': False}, 'accessViewStatus': 'SAMPLE'}, 'searchInfo': {'textSnippet': 'Although <b>Python</b> might still have the appeal of something new to some people, it <br>\\nhas been around for quite a long time. In fact, development efforts began in the <br>\\n1980s by Guido van Rossum from the Netherlands. He is still active in <b>Python</b>&nbsp;...'}}]}\n"
          ],
          "name": "stdout"
        }
      ]
    },
    {
      "cell_type": "markdown",
      "metadata": {
        "id": "-kBXFwQnQnmc"
      },
      "source": [
        "#送出需要認證的HTTP請求"
      ]
    },
    {
      "cell_type": "code",
      "metadata": {
        "id": "FZ1ZkQdpQnSS"
      },
      "source": [
        "url = \"http://api.github.com/user\"\r\n",
        "\r\n",
        "r = requests.get(url,auth=('rubydog0501@gmail.com',''))\r\n",
        "if r.status_code == requests.codes.ok:\r\n",
        "  print(r.headers['Content-Type'])\r\n",
        "  print(r.json())"
      ],
      "execution_count": null,
      "outputs": []
    }
  ]
}